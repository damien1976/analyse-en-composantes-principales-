{
  "nbformat": 4,
  "nbformat_minor": 0,
  "metadata": {
    "colab": {
      "provenance": [],
      "mount_file_id": "1JYcXgwdbLPqVfI0OCiWEhSz2Pc1kgWNx",
      "authorship_tag": "ABX9TyPIS1358p6YpqPeJsH4f8Ny"
    },
    "kernelspec": {
      "name": "python3",
      "display_name": "Python 3"
    },
    "language_info": {
      "name": "python"
    }
  },
  "cells": [
    {
      "cell_type": "markdown",
      "source": [
        "<h1>Comprendre l'analyse en composantes principales</h1>\n",
        "\n",
        "Lorsqu’on étudie simultanément un nombre important de variables quantitatives, les individus étudiés ne sont plus représentés dans un plan, espace de dimension 2, mais dans un espace de dimension plus importante. \n",
        "L’objectif de l’Analyse en Composantes Principales (ACP) est\n",
        "de revenir à un espace de dimension réduite (par exemple 2) en déformant le moins possible la réalité. \n",
        "Il s’agit donc d’obtenir le résumé le plus pertinent possible des données initiales.\n",
        "C’est la matrice des variances-covariances (ou celle des corrélations) qui va permettre de réaliser ce résumé pertinent. On va diagonaliser cette matrice afin d'obtenir les informations essentielles en plus petit nombre."
      ],
      "metadata": {
        "id": "yLG4Q5jVA28f"
      }
    },
    {
      "cell_type": "markdown",
      "source": [
        "# Dépendances"
      ],
      "metadata": {
        "id": "IgGzZ2a2Br_7"
      }
    },
    {
      "cell_type": "code",
      "source": [
        "import pandas as pd\n",
        "import numpy as np\n",
        "import matplotlib.pyplot as plt\n",
        "from math import sqrt, cos, sin, pi"
      ],
      "metadata": {
        "id": "ctKCTp0jOtTJ"
      },
      "execution_count": 5,
      "outputs": []
    },
    {
      "cell_type": "markdown",
      "source": [
        "# Jeu de données\n",
        "Le jeu de données provient du site https://husson.github.io/data.html"
      ],
      "metadata": {
        "id": "aLHy8OakB1lp"
      }
    },
    {
      "cell_type": "code",
      "source": [
        "filename = \"/content/AnaDo_JeuDonnees_TemperatFrance.csv\"\n",
        "df = pd.read_csv(filename, sep=\";\", encoding='latin-1')\n",
        "df.head()"
      ],
      "metadata": {
        "colab": {
          "base_uri": "https://localhost:8080/",
          "height": 206
        },
        "id": "AM7E6LFnOxVd",
        "outputId": "31bff3da-19fc-49c2-a310-fdfcfc9abd06"
      },
      "execution_count": 6,
      "outputs": [
        {
          "output_type": "execute_result",
          "data": {
            "text/plain": [
              "  Unnamed: 0  Janv  Févr  Mars  Avri   Mai  Juin  juil  Août  Sept  Octo  \\\n",
              "0   Bordeaux   5.6   6.6  10.3  12.8  15.8  19.3  20.9  21.0  18.6  13.8   \n",
              "1      Brest   6.1   5.8   7.8   9.2  11.6  14.4  15.6  16.0  14.7  12.0   \n",
              "2   Clermont   2.6   3.7   7.5  10.3  13.8  17.3  19.4  19.1  16.2  11.2   \n",
              "3   Grenoble   1.5   3.2   7.7  10.6  14.5  17.8  20.1  19.5  16.7  11.4   \n",
              "4      Lille   2.4   2.9   6.0   8.9  12.4  15.3  17.1  17.1  14.7  10.4   \n",
              "\n",
              "   Nove  Déce   Lati  Long   Moye  Ampl Région  \n",
              "0   9.1   6.2  44.50 -0.34  13.33  15.4     SO  \n",
              "1   9.0   7.0  48.24 -4.29  10.77  10.2     NO  \n",
              "2   6.6   3.6  45.47  3.05  10.94  16.8     SE  \n",
              "3   6.5   2.3  45.10  5.43  10.98  18.6     SE  \n",
              "4   6.1   3.5  50.38  3.04   9.73  14.7     NE  "
            ],
            "text/html": [
              "\n",
              "  <div id=\"df-53e0c31c-7a30-4532-9dca-a02e810c19ce\">\n",
              "    <div class=\"colab-df-container\">\n",
              "      <div>\n",
              "<style scoped>\n",
              "    .dataframe tbody tr th:only-of-type {\n",
              "        vertical-align: middle;\n",
              "    }\n",
              "\n",
              "    .dataframe tbody tr th {\n",
              "        vertical-align: top;\n",
              "    }\n",
              "\n",
              "    .dataframe thead th {\n",
              "        text-align: right;\n",
              "    }\n",
              "</style>\n",
              "<table border=\"1\" class=\"dataframe\">\n",
              "  <thead>\n",
              "    <tr style=\"text-align: right;\">\n",
              "      <th></th>\n",
              "      <th>Unnamed: 0</th>\n",
              "      <th>Janv</th>\n",
              "      <th>Févr</th>\n",
              "      <th>Mars</th>\n",
              "      <th>Avri</th>\n",
              "      <th>Mai</th>\n",
              "      <th>Juin</th>\n",
              "      <th>juil</th>\n",
              "      <th>Août</th>\n",
              "      <th>Sept</th>\n",
              "      <th>Octo</th>\n",
              "      <th>Nove</th>\n",
              "      <th>Déce</th>\n",
              "      <th>Lati</th>\n",
              "      <th>Long</th>\n",
              "      <th>Moye</th>\n",
              "      <th>Ampl</th>\n",
              "      <th>Région</th>\n",
              "    </tr>\n",
              "  </thead>\n",
              "  <tbody>\n",
              "    <tr>\n",
              "      <th>0</th>\n",
              "      <td>Bordeaux</td>\n",
              "      <td>5.6</td>\n",
              "      <td>6.6</td>\n",
              "      <td>10.3</td>\n",
              "      <td>12.8</td>\n",
              "      <td>15.8</td>\n",
              "      <td>19.3</td>\n",
              "      <td>20.9</td>\n",
              "      <td>21.0</td>\n",
              "      <td>18.6</td>\n",
              "      <td>13.8</td>\n",
              "      <td>9.1</td>\n",
              "      <td>6.2</td>\n",
              "      <td>44.50</td>\n",
              "      <td>-0.34</td>\n",
              "      <td>13.33</td>\n",
              "      <td>15.4</td>\n",
              "      <td>SO</td>\n",
              "    </tr>\n",
              "    <tr>\n",
              "      <th>1</th>\n",
              "      <td>Brest</td>\n",
              "      <td>6.1</td>\n",
              "      <td>5.8</td>\n",
              "      <td>7.8</td>\n",
              "      <td>9.2</td>\n",
              "      <td>11.6</td>\n",
              "      <td>14.4</td>\n",
              "      <td>15.6</td>\n",
              "      <td>16.0</td>\n",
              "      <td>14.7</td>\n",
              "      <td>12.0</td>\n",
              "      <td>9.0</td>\n",
              "      <td>7.0</td>\n",
              "      <td>48.24</td>\n",
              "      <td>-4.29</td>\n",
              "      <td>10.77</td>\n",
              "      <td>10.2</td>\n",
              "      <td>NO</td>\n",
              "    </tr>\n",
              "    <tr>\n",
              "      <th>2</th>\n",
              "      <td>Clermont</td>\n",
              "      <td>2.6</td>\n",
              "      <td>3.7</td>\n",
              "      <td>7.5</td>\n",
              "      <td>10.3</td>\n",
              "      <td>13.8</td>\n",
              "      <td>17.3</td>\n",
              "      <td>19.4</td>\n",
              "      <td>19.1</td>\n",
              "      <td>16.2</td>\n",
              "      <td>11.2</td>\n",
              "      <td>6.6</td>\n",
              "      <td>3.6</td>\n",
              "      <td>45.47</td>\n",
              "      <td>3.05</td>\n",
              "      <td>10.94</td>\n",
              "      <td>16.8</td>\n",
              "      <td>SE</td>\n",
              "    </tr>\n",
              "    <tr>\n",
              "      <th>3</th>\n",
              "      <td>Grenoble</td>\n",
              "      <td>1.5</td>\n",
              "      <td>3.2</td>\n",
              "      <td>7.7</td>\n",
              "      <td>10.6</td>\n",
              "      <td>14.5</td>\n",
              "      <td>17.8</td>\n",
              "      <td>20.1</td>\n",
              "      <td>19.5</td>\n",
              "      <td>16.7</td>\n",
              "      <td>11.4</td>\n",
              "      <td>6.5</td>\n",
              "      <td>2.3</td>\n",
              "      <td>45.10</td>\n",
              "      <td>5.43</td>\n",
              "      <td>10.98</td>\n",
              "      <td>18.6</td>\n",
              "      <td>SE</td>\n",
              "    </tr>\n",
              "    <tr>\n",
              "      <th>4</th>\n",
              "      <td>Lille</td>\n",
              "      <td>2.4</td>\n",
              "      <td>2.9</td>\n",
              "      <td>6.0</td>\n",
              "      <td>8.9</td>\n",
              "      <td>12.4</td>\n",
              "      <td>15.3</td>\n",
              "      <td>17.1</td>\n",
              "      <td>17.1</td>\n",
              "      <td>14.7</td>\n",
              "      <td>10.4</td>\n",
              "      <td>6.1</td>\n",
              "      <td>3.5</td>\n",
              "      <td>50.38</td>\n",
              "      <td>3.04</td>\n",
              "      <td>9.73</td>\n",
              "      <td>14.7</td>\n",
              "      <td>NE</td>\n",
              "    </tr>\n",
              "  </tbody>\n",
              "</table>\n",
              "</div>\n",
              "      <button class=\"colab-df-convert\" onclick=\"convertToInteractive('df-53e0c31c-7a30-4532-9dca-a02e810c19ce')\"\n",
              "              title=\"Convert this dataframe to an interactive table.\"\n",
              "              style=\"display:none;\">\n",
              "        \n",
              "  <svg xmlns=\"http://www.w3.org/2000/svg\" height=\"24px\"viewBox=\"0 0 24 24\"\n",
              "       width=\"24px\">\n",
              "    <path d=\"M0 0h24v24H0V0z\" fill=\"none\"/>\n",
              "    <path d=\"M18.56 5.44l.94 2.06.94-2.06 2.06-.94-2.06-.94-.94-2.06-.94 2.06-2.06.94zm-11 1L8.5 8.5l.94-2.06 2.06-.94-2.06-.94L8.5 2.5l-.94 2.06-2.06.94zm10 10l.94 2.06.94-2.06 2.06-.94-2.06-.94-.94-2.06-.94 2.06-2.06.94z\"/><path d=\"M17.41 7.96l-1.37-1.37c-.4-.4-.92-.59-1.43-.59-.52 0-1.04.2-1.43.59L10.3 9.45l-7.72 7.72c-.78.78-.78 2.05 0 2.83L4 21.41c.39.39.9.59 1.41.59.51 0 1.02-.2 1.41-.59l7.78-7.78 2.81-2.81c.8-.78.8-2.07 0-2.86zM5.41 20L4 18.59l7.72-7.72 1.47 1.35L5.41 20z\"/>\n",
              "  </svg>\n",
              "      </button>\n",
              "      \n",
              "  <style>\n",
              "    .colab-df-container {\n",
              "      display:flex;\n",
              "      flex-wrap:wrap;\n",
              "      gap: 12px;\n",
              "    }\n",
              "\n",
              "    .colab-df-convert {\n",
              "      background-color: #E8F0FE;\n",
              "      border: none;\n",
              "      border-radius: 50%;\n",
              "      cursor: pointer;\n",
              "      display: none;\n",
              "      fill: #1967D2;\n",
              "      height: 32px;\n",
              "      padding: 0 0 0 0;\n",
              "      width: 32px;\n",
              "    }\n",
              "\n",
              "    .colab-df-convert:hover {\n",
              "      background-color: #E2EBFA;\n",
              "      box-shadow: 0px 1px 2px rgba(60, 64, 67, 0.3), 0px 1px 3px 1px rgba(60, 64, 67, 0.15);\n",
              "      fill: #174EA6;\n",
              "    }\n",
              "\n",
              "    [theme=dark] .colab-df-convert {\n",
              "      background-color: #3B4455;\n",
              "      fill: #D2E3FC;\n",
              "    }\n",
              "\n",
              "    [theme=dark] .colab-df-convert:hover {\n",
              "      background-color: #434B5C;\n",
              "      box-shadow: 0px 1px 3px 1px rgba(0, 0, 0, 0.15);\n",
              "      filter: drop-shadow(0px 1px 2px rgba(0, 0, 0, 0.3));\n",
              "      fill: #FFFFFF;\n",
              "    }\n",
              "  </style>\n",
              "\n",
              "      <script>\n",
              "        const buttonEl =\n",
              "          document.querySelector('#df-53e0c31c-7a30-4532-9dca-a02e810c19ce button.colab-df-convert');\n",
              "        buttonEl.style.display =\n",
              "          google.colab.kernel.accessAllowed ? 'block' : 'none';\n",
              "\n",
              "        async function convertToInteractive(key) {\n",
              "          const element = document.querySelector('#df-53e0c31c-7a30-4532-9dca-a02e810c19ce');\n",
              "          const dataTable =\n",
              "            await google.colab.kernel.invokeFunction('convertToInteractive',\n",
              "                                                     [key], {});\n",
              "          if (!dataTable) return;\n",
              "\n",
              "          const docLinkHtml = 'Like what you see? Visit the ' +\n",
              "            '<a target=\"_blank\" href=https://colab.research.google.com/notebooks/data_table.ipynb>data table notebook</a>'\n",
              "            + ' to learn more about interactive tables.';\n",
              "          element.innerHTML = '';\n",
              "          dataTable['output_type'] = 'display_data';\n",
              "          await google.colab.output.renderOutput(dataTable, element);\n",
              "          const docLink = document.createElement('div');\n",
              "          docLink.innerHTML = docLinkHtml;\n",
              "          element.appendChild(docLink);\n",
              "        }\n",
              "      </script>\n",
              "    </div>\n",
              "  </div>\n",
              "  "
            ]
          },
          "metadata": {},
          "execution_count": 6
        }
      ]
    },
    {
      "cell_type": "code",
      "source": [
        "# Mise en index des villes\n",
        "df = df.set_index('Unnamed: 0')\n",
        "villes = df.index.to_list()\n",
        "villes"
      ],
      "metadata": {
        "colab": {
          "base_uri": "https://localhost:8080/"
        },
        "id": "whzH9TrMjEQp",
        "outputId": "21ac0ebe-4589-4200-afd8-283e8950f2e4"
      },
      "execution_count": 7,
      "outputs": [
        {
          "output_type": "execute_result",
          "data": {
            "text/plain": [
              "['Bordeaux',\n",
              " 'Brest',\n",
              " 'Clermont',\n",
              " 'Grenoble',\n",
              " 'Lille',\n",
              " 'Lyon',\n",
              " 'Marseille',\n",
              " 'Montpellier',\n",
              " 'Nantes',\n",
              " 'Nice',\n",
              " 'Paris',\n",
              " 'Rennes',\n",
              " 'Strasbourg',\n",
              " 'Toulouse',\n",
              " 'Vichy']"
            ]
          },
          "metadata": {},
          "execution_count": 7
        }
      ]
    },
    {
      "cell_type": "markdown",
      "source": [
        "A partir de ce jeu de données, on ne conserve que les variables \"Janvier\" à \"Décembre\". Les variables \"latitude\", \"longitude\", \"moyenne\" et \"amplitude\" serviront à expliquer les axes principaux. "
      ],
      "metadata": {
        "id": "E8Wr8QwKTzdi"
      }
    },
    {
      "cell_type": "code",
      "source": [
        "# On ne conserve du dataframe d'origine que les 12 premières variables \n",
        "# (Colonnes Janvier à décembre)\n",
        "data = df.iloc[:,0:-5]\n",
        "\n",
        "# Mise des variables sous forme d'une liste.\n",
        "variables = data.columns.to_list()\n",
        "\n",
        "# Nombre de variables\n",
        "K = len(variables)\n",
        "for c in variables:\n",
        "  print(c, end='\\t')\n",
        "\n",
        "# Réduction des données (retrancher la moyenne de chaque colonne et diviser par l'écart-type)\n",
        "for c in variables:\n",
        "  moy = data[c].mean(axis=0)\n",
        "  sigma = data[c].std()\n",
        "  #print(\"columns\", c, \"moyenne : \", round(moy,2), \"ecart-type : \", round(sigma,2))\n",
        "  data[c]=(data[c]-moy)/sigma\n",
        "\n",
        "# Vérification\n",
        "\"\"\"\n",
        "for c in variables:\n",
        "  moy = data[c].mean(axis=0)\n",
        "  sigma = data[c].std()\n",
        "  print(\"columns :\", c, \" : moyenne : \", round(moy,2), \"ecart-type : \", round(sigma,2))\n",
        "\"\"\"\n",
        "\n",
        "# Données sous forme d'un tableau numpy\n",
        "X = np.array(data)\n",
        "X\n"
      ],
      "metadata": {
        "colab": {
          "base_uri": "https://localhost:8080/"
        },
        "id": "YckCGTcfPwlZ",
        "outputId": "9fe9e102-59e8-49cf-8bf7-08180b5f3f85"
      },
      "execution_count": 8,
      "outputs": [
        {
          "output_type": "stream",
          "name": "stdout",
          "text": [
            "Janv\tFévr\tMars\tAvri\tMai\tJuin\tjuil\tAoût\tSept\tOcto\tNove\tDéce\t"
          ]
        },
        {
          "output_type": "execute_result",
          "data": {
            "text/plain": [
              "array([[ 0.81037699,  0.94554598,  1.35157247,  1.28638315,  0.90832791,\n",
              "         0.81776476,  0.50103207,  0.7123966 ,  0.87296222,  0.80874834,\n",
              "         0.65049568,  0.6910229 ],\n",
              "       [ 1.05946828,  0.51737422, -0.28339423, -1.258111  , -1.88311885,\n",
              "        -1.91431296, -1.98847101, -1.77270783, -1.23729769, -0.17486451,\n",
              "         0.5950557 ,  1.09950934],\n",
              "       [-0.68417074, -0.60657667, -0.47959023, -0.48062667, -0.42093245,\n",
              "        -0.297369  , -0.20354428, -0.23194308, -0.42565926, -0.61202577,\n",
              "        -0.73550363, -0.63655804],\n",
              "       [-1.23217157, -0.87418402, -0.34879289, -0.26858549,  0.04430868,\n",
              "        -0.01858556,  0.12525802, -0.03313473, -0.15511312, -0.50273546,\n",
              "        -0.79094361, -1.3003485 ],\n",
              "       [-0.78380725, -1.03474843, -1.46057025, -1.47015217, -1.3514147 ,\n",
              "        -1.41250277, -1.28389467, -1.22598485, -1.23729769, -1.04918704,\n",
              "        -1.0127035 , -0.68761884],\n",
              "       [-0.93326203, -0.82066255, -0.34879289, -0.05654431,  0.31016075,\n",
              "         0.37171126,  0.40708855,  0.26507781, -0.04689466, -0.50273546,\n",
              "        -0.68006366, -0.89186206],\n",
              "       [ 0.76055873,  0.94554598,  1.15537646,  1.42774394,  1.57295809,\n",
              "         1.65411509,  1.62835421,  1.6070342 ,  1.57638219,  1.46449025,\n",
              "         1.26033537,  1.04844853],\n",
              "       [ 0.81037699,  0.99906745,  1.0899778 ,  1.28638315,  1.17417999,\n",
              "         1.26381827,  1.34652367,  1.35852376,  1.25172682,  1.24590961,\n",
              "         1.14945543,  0.84420531],\n",
              "       [ 0.51146745,  0.24976686,  0.10899778, -0.12722471, -0.35446943,\n",
              "        -0.35312569, -0.48537481, -0.48045352, -0.31744081, -0.06557419,\n",
              "         0.15153592,  0.33359726],\n",
              "       [ 1.75692389,  1.96245392,  1.67856581,  1.63978512,  1.50649508,\n",
              "         1.26381827,  1.34652367,  1.45792793,  1.7928191 ,  2.01094183,\n",
              "         1.98105501,  1.712239  ],\n",
              "       [-0.28562468, -0.39249078, -0.41419156, -0.1979051 , -0.08861736,\n",
              "        -0.18585563, -0.34445954, -0.43075143, -0.53387772, -0.50273546,\n",
              "        -0.45830377, -0.2791324 ],\n",
              "       [ 0.41183093,  0.24976686, -0.21799556, -0.62198746, -0.88617357,\n",
              "        -0.91069258, -0.90812062, -0.87807023, -0.69620541, -0.39344514,\n",
              "        -0.07022397,  0.28253646],\n",
              "       [-1.78017241, -1.78404902, -1.72216492, -0.83402864, -0.28800641,\n",
              "        -0.35312569, -0.3914313 , -0.62955979, -1.02086078, -1.54099347,\n",
              "        -1.67798316, -1.81095656],\n",
              "       [ 0.36201267,  0.41033127,  0.63218712,  0.43821844,  0.31016075,\n",
              "         0.48322463,  0.50103207,  0.66269451,  0.71063453,  0.53552255,\n",
              "         0.37329581,  0.33359726],\n",
              "       [-0.78380725, -0.76714108, -0.7411849 , -0.76334824, -0.55385848,\n",
              "        -0.40888238, -0.25051603, -0.38104935, -0.53387772, -0.72131609,\n",
              "        -0.73550363, -0.73867965]])"
            ]
          },
          "metadata": {},
          "execution_count": 8
        }
      ]
    },
    {
      "cell_type": "markdown",
      "source": [
        "# Matrice de covariances et diagonalisation\n",
        "On définit la matrice de covariances. Sa diagonalisation permettra de trouver les sous-espaces propres permettant de déterminer les axes principaux. "
      ],
      "metadata": {
        "id": "R45Vw4YJFac5"
      }
    },
    {
      "cell_type": "code",
      "source": [
        "S = (1./K)*np.transpose(X).dot(X) # Matrice des covariances\n",
        "S[:3,:3]"
      ],
      "metadata": {
        "colab": {
          "base_uri": "https://localhost:8080/"
        },
        "id": "6j7qEkU_TEP_",
        "outputId": "690f4569-302e-407a-df76-6102abcd6542"
      },
      "execution_count": 9,
      "outputs": [
        {
          "output_type": "execute_result",
          "data": {
            "text/plain": [
              "array([[1.16666667, 1.13571544, 0.97451826],\n",
              "       [1.13571544, 1.16666667, 1.08633616],\n",
              "       [0.97451826, 1.08633616, 1.16666667]])"
            ]
          },
          "metadata": {},
          "execution_count": 9
        }
      ]
    },
    {
      "cell_type": "code",
      "source": [
        "#Recherche des valeurs propres et vecteurs propres\n",
        "valp, vecp = np.linalg.eig(S) # Valeurs propres, vecteurs propres\n",
        "\n",
        "valp"
      ],
      "metadata": {
        "id": "YHi25jT9Zy-S",
        "colab": {
          "base_uri": "https://localhost:8080/"
        },
        "outputId": "1c4816b7-7884-4acc-cabe-fbb56a7e4f68"
      },
      "execution_count": 10,
      "outputs": [
        {
          "output_type": "execute_result",
          "data": {
            "text/plain": [
              "array([1.11787428e+01, 2.65582147e+00, 8.16834715e-02, 4.62871867e-02,\n",
              "       1.63861718e-02, 9.31179298e-03, 7.05746470e-03, 2.03804179e-03,\n",
              "       1.74087447e-03, 5.74155680e-04, 3.33475028e-04, 2.30557862e-05])"
            ]
          },
          "metadata": {},
          "execution_count": 10
        }
      ]
    },
    {
      "cell_type": "code",
      "source": [
        "# Petit programme simple permettant de rechercher des deux plus grandes valeurs propres.\n",
        "# mais np.linalg.eig() donne déjà les valeurs propres classées de la plus grande à la plus petite. \n",
        "indice1=0\n",
        "indice2=0\n",
        "vp1=0\n",
        "vp2=0\n",
        "\n",
        "for k, v in enumerate(valp):\n",
        "  if v>vp1:\n",
        "    vp1=v\n",
        "    indice1=k\n",
        "  elif v>vp2:\n",
        "    vp2=v\n",
        "    indice2=k\n",
        "\n",
        "print(indice1, vp1, \"\\n\", indice2, vp2)\n",
        "\n"
      ],
      "metadata": {
        "colab": {
          "base_uri": "https://localhost:8080/"
        },
        "id": "p1iDjWagf2yT",
        "outputId": "beec5e67-4898-4334-a731-6c165d66116d"
      },
      "execution_count": 11,
      "outputs": [
        {
          "output_type": "stream",
          "name": "stdout",
          "text": [
            "0 11.178742844339775 \n",
            " 1 2.655821465190506\n"
          ]
        }
      ]
    },
    {
      "cell_type": "code",
      "source": [
        "# Définition de la norme du vecteur tab\n",
        "def norme(tab):\n",
        "  s=0\n",
        "  for _, v in enumerate(tab):\n",
        "    s=s+v**2\n",
        "  return sqrt(s)\n",
        "\n",
        "# Définition du produit scalaire de deux vecteurs x et y\n",
        "def prod_scal(x,y):\n",
        "  s=0\n",
        "  for k, v in enumerate(x):\n",
        "    s=s+v*y[k]\n",
        "  return s\n",
        "\n",
        "# On définit la projection sur ces deux espaces vectoriels. \n",
        "# pour mémoire la projection du vecteur x sur l'espace vectoriel engendré par {e1, e2} est donnée par : \n",
        "# p(x)=<x,e1>/||e1||e1 + <x,e2>/||e2||e2 \n",
        "# {e1, e2} sont les vecteurs propres associés aux deux plus grandes valeurs propres. \n",
        "def proj(x, e1=vecp[0], e2=vecp[1]):\n",
        "  return prod_scal(x, e1), prod_scal(x, e2)\n",
        "\n",
        "# Projection de chacune des villes (vecteurs-lignes) sur l'espace vectoriel engendré par {e1, e2}\n",
        "vec_X = []\n",
        "vec_Y = []\n",
        "\n",
        "for i in range(len(villes)):\n",
        "  x=proj(X[i][:])\n",
        "  vec_X.append(x[0])\n",
        "  vec_Y.append(x[1])\n",
        "\n",
        "print(vec_X, \"\\n\", vec_Y)\n"
      ],
      "metadata": {
        "colab": {
          "base_uri": "https://localhost:8080/"
        },
        "id": "VhzE_zg3g2lj",
        "outputId": "4902ab8a-a4b0-4372-b929-5777df139958"
      },
      "execution_count": 12,
      "outputs": [
        {
          "output_type": "stream",
          "name": "stdout",
          "text": [
            "[-0.17413532804268186, -1.2197045498066748, 0.17748041768860054, 0.4057460785365919, -0.06369237791547412, 0.6057607237789222, 0.20998715556406, -0.03380089940594851, -0.2800986226294714, -0.39333427702987434, 0.11149055539569055, -0.4713282549872244, 0.8384227199534773, 0.03024278350123353, 0.2569638753987764] \n",
            " [0.8019963174114031, -1.029014433055069, -0.5981459443152797, -0.6522020193592328, -1.4571537095350342, -0.12455060799073925, 1.9812591908596735, 1.6118319579508915, -0.1620375990813251, 1.9914990562450356, -0.3485250198530334, -0.6993011895552583, -1.1765286983906318, 0.5371838081455252, -0.6763111094768928]\n"
          ]
        }
      ]
    },
    {
      "cell_type": "markdown",
      "source": [
        "# Graphique de projection des individus sur l'espace vectoriel engendré par les deux axes principaux. "
      ],
      "metadata": {
        "id": "u738QSMsID_t"
      }
    },
    {
      "cell_type": "code",
      "source": [
        "plt.figure(1, figsize=(12, 8))\n",
        "plt.scatter(vec_X, vec_Y)\n",
        "for i, txt in enumerate(villes):\n",
        "    plt.annotate(txt, (vec_X[i]+0.05, vec_Y[i]))\n",
        "plt.grid()\n",
        "plt.plot([-2, 3], [0, 0], \"red\")\n",
        "plt.plot([0, 0], [-2, 3], \"red\")\n",
        "plt.show()\n"
      ],
      "metadata": {
        "colab": {
          "base_uri": "https://localhost:8080/",
          "height": 483
        },
        "id": "9c-QAwebkCuo",
        "outputId": "8c58cb9d-730f-4bf6-e65a-674432c44b71"
      },
      "execution_count": 54,
      "outputs": [
        {
          "output_type": "display_data",
          "data": {
            "text/plain": [
              "<Figure size 864x576 with 1 Axes>"
            ],
            "image/png": "[encoded data removed]"
          },
          "metadata": {
            "needs_background": "light"
          }
        }
      ]
    },
    {
      "cell_type": "code",
      "source": [
        "# On complète le code précédent en ajoutant une couleur à la ville en fonction de la région (NE, NO, SE, SO)\n",
        "def couleur(ville):\n",
        "  c = df[df.index==ville]['Région'][0]\n",
        "  if c==\"SO\":\n",
        "    return 'blue'\n",
        "  if c=='NO':\n",
        "    return 'purple'\n",
        "  if c=='NE':\n",
        "    return 'brown'\n",
        "  else:\n",
        "    return 'green'\n",
        "\n",
        "plt.figure(1, figsize=(12, 8))\n",
        "plt.scatter(vec_X, vec_Y, color='black', marker=\"*\")\n",
        "for i, txt in enumerate(villes):\n",
        "    plt.annotate(txt, (vec_X[i]+0.05, vec_Y[i]), color=couleur(villes[i]))\n",
        "plt.grid()\n",
        "plt.plot([-2, 3], [0, 0], \"red\")\n",
        "plt.plot([0, 0], [-2, 3], \"red\")\n",
        "plt.show()"
      ],
      "metadata": {
        "colab": {
          "base_uri": "https://localhost:8080/",
          "height": 483
        },
        "id": "7yBKhg3MU0Kt",
        "outputId": "3147cf75-c5a2-423a-dacc-bf6ed69f785f"
      },
      "execution_count": 55,
      "outputs": [
        {
          "output_type": "display_data",
          "data": {
            "text/plain": [
              "<Figure size 864x576 with 1 Axes>"
            ],
            "image/png": "[encoded data removed]"
          },
          "metadata": {
            "needs_background": "light"
          }
        }
      ]
    },
    {
      "cell_type": "markdown",
      "source": [
        "# Cercle des corrélations"
      ],
      "metadata": {
        "id": "aisHgWiJIWmR"
      }
    },
    {
      "cell_type": "code",
      "source": [
        "# Projection des variables initiales sur le plan principal : produit scalaire de x[:][j] et vec_X puis avec vec_Y\n",
        "var_X = []\n",
        "var_Y = []\n",
        "for j in range(X.shape[1]):\n",
        "  x = prod_scal(X[:][j], vec_X)/(norme(X[:][j])*norme(vec_X))\n",
        "  y = prod_scal(X[:][j], vec_Y)/(norme(X[:][j])*norme(vec_Y))\n",
        "  var_X.append(x/sqrt(x**2+y**2))\n",
        "  var_Y.append(y/sqrt(x**2+y**2))\n"
      ],
      "metadata": {
        "id": "9qB1F-v9-sqJ"
      },
      "execution_count": 15,
      "outputs": []
    },
    {
      "cell_type": "code",
      "source": [
        "# Création du cercle des corrélations\n",
        "cercle_X=[]\n",
        "cercle_Y=[]\n",
        "cercle_inf=[]\n",
        "N=50\n",
        "\n",
        "plt.figure(1, figsize=(12, 8))\n",
        "for j in range(N+1):\n",
        "  cercle_X.append(cos(2*pi/N*j))\n",
        "  cercle_Y.append(sin(2*pi/N*j))\n",
        "  cercle_inf.append(-sin(2*pi/N*j))\n",
        "\n",
        "# Affichage des variables sous forme de flèches. \n",
        "for i, txt in enumerate(variables):\n",
        "    plt.arrow(0, 0, var_X[i], var_Y[i])\n",
        "    plt.annotate(txt, (var_X[i]+0.05, var_Y[i]))\n",
        "  \n",
        "plt.grid()\n",
        "plt.axis(\"equal\")\n",
        "plt.plot(cercle_X, cercle_Y, \"red\")\n",
        "plt.plot(cercle_X, cercle_inf, \"red\")\n",
        "plt.plot([-1.5, 1.5], [0, 0], \"red\", linewidth=0.7)\n",
        "plt.plot([0, 0], [-1.1, 1.1], \"red\", linewidth=0.7)\n",
        "plt.show()"
      ],
      "metadata": {
        "colab": {
          "base_uri": "https://localhost:8080/",
          "height": 483
        },
        "id": "bNirNQ3l_WLc",
        "outputId": "f75c661a-bc36-47dd-a782-7dd585ae733d"
      },
      "execution_count": 56,
      "outputs": [
        {
          "output_type": "display_data",
          "data": {
            "text/plain": [
              "<Figure size 864x576 with 1 Axes>"
            ],
            "image/png": "[encoded data removed]"
          },
          "metadata": {
            "needs_background": "light"
          }
        }
      ]
    },
    {
      "cell_type": "code",
      "source": [
        "# Poids des variables dans la constitution du premier axe pricipal.\n",
        "plt.bar(variables, var_X)\n",
        "plt.show()"
      ],
      "metadata": {
        "colab": {
          "base_uri": "https://localhost:8080/",
          "height": 265
        },
        "id": "PD1AX4ayIZYk",
        "outputId": "336f616b-6219-45d3-ade6-0c82a348df69"
      },
      "execution_count": 17,
      "outputs": [
        {
          "output_type": "display_data",
          "data": {
            "text/plain": [
              "<Figure size 432x288 with 1 Axes>"
            ],
            "image/png": "[encoded data removed]"
          },
          "metadata": {
            "needs_background": "light"
          }
        }
      ]
    },
    {
      "cell_type": "code",
      "source": [
        "# Poids des variables dans la constitution du deuxième axe pricipal.\n",
        "plt.bar(variables, var_Y)\n",
        "plt.show()"
      ],
      "metadata": {
        "colab": {
          "base_uri": "https://localhost:8080/",
          "height": 265
        },
        "id": "QgFR-n_EI4O_",
        "outputId": "085a3fba-e9cf-4561-ff72-a939d415e1cd"
      },
      "execution_count": 18,
      "outputs": [
        {
          "output_type": "display_data",
          "data": {
            "text/plain": [
              "<Figure size 432x288 with 1 Axes>"
            ],
            "image/png": "[encoded data removed]"
          },
          "metadata": {
            "needs_background": "light"
          }
        }
      ]
    },
    {
      "cell_type": "markdown",
      "source": [
        "On rajoute les variables 'longitude', 'latitude', 'amplitude' et 'moyenne' pour interpréter les deux axes principaux. "
      ],
      "metadata": {
        "id": "nKH9l-ImqpRR"
      }
    },
    {
      "cell_type": "code",
      "source": [
        "# Definition d'une fonction signe pour placer plus esthétiquement les étiquettes\n",
        "def signe(x):\n",
        "  if x>=0:\n",
        "    return 2\n",
        "  else:\n",
        "    return -2\n",
        "\n",
        "# Ajout des nouvelles variables 'longitude', 'latitude', 'amplitude' et 'moyenne'\n",
        "plt.figure(1, figsize=(12, 8))\n",
        "for c in ['Lati', 'Long', 'Moye', 'Ampl']:\n",
        "  x = prod_scal(np.array(df[c]), vec_X)/(norme(np.array(df[c]))*norme(vec_X))\n",
        "  y = prod_scal(np.array(df[c]), vec_Y)/(norme(np.array(df[c]))*norme(vec_Y))\n",
        "  plt.annotate(c,xy=(0,0), xytext=(x/sqrt(x**2+y**2)+0.05*signe(x/sqrt(x**2+y**2)), \\\n",
        "                                   y/sqrt(x**2+y**2)+0.05*signe(y/sqrt(x**2+y**2))),  \\\n",
        "               color='blue', va='center', \\\n",
        "               arrowprops={'arrowstyle' : '<-', 'facecolor':'blue'})\n",
        "  #+0.05*signe(x/sqrt(x**2+y**2)), \\+0.05*signe(y/sqrt(x**2+y**2))),\n",
        "plt.grid()\n",
        "plt.axis(\"equal\")\n",
        "plt.plot(cercle_X, cercle_Y, \"red\")\n",
        "plt.plot(cercle_X, cercle_inf, \"red\")\n",
        "plt.plot([-1.5, 1.5], [0, 0], \"red\", linewidth=0.7)\n",
        "plt.plot([0, 0], [-1.1, 1.1], \"red\", linewidth=0.7)\n",
        "plt.show()"
      ],
      "metadata": {
        "colab": {
          "base_uri": "https://localhost:8080/",
          "height": 483
        },
        "id": "4EbZVvYqqoD3",
        "outputId": "8f2ea4da-c499-4af1-981f-65544d0438a5"
      },
      "execution_count": 57,
      "outputs": [
        {
          "output_type": "display_data",
          "data": {
            "text/plain": [
              "<Figure size 864x576 with 1 Axes>"
            ],
            "image/png": "[encoded data removed]"
          },
          "metadata": {
            "needs_background": "light"
          }
        }
      ]
    },
    {
      "cell_type": "markdown",
      "source": [
        "Nous voyons que le premier axe principal est fortement corrélé à l'amplitude thermique. Cela signifie que les villes situées dans la partie droite du graphique de projection ont une forte amplitude thermique tandis que les villes situées dans la partie gauche du graphique ont une faible amplitude thermique.\n",
        "De la même manière, le deuxième axe principal est fortement corrélé à la moyenne des températures et inversement corrélé à la latitude. Cela signifie que les villes situées dans la partie haute du graphique de projection ont une moyenne des températures élevée et sont situées à de faibles latitudes tandis que les villes situées dans la partie basse du graphique des projections ont une plus faible moyenne des températures et sont situées à de plus fortes latitudes. "
      ],
      "metadata": {
        "id": "lVk4jlKUtVNX"
      }
    },
    {
      "cell_type": "markdown",
      "source": [
        "# Choix du nombre de composantes principales"
      ],
      "metadata": {
        "id": "AjiEu50nOdFt"
      }
    },
    {
      "cell_type": "markdown",
      "source": [
        "### Part d'inertie expliquée\n",
        "Elle est représentée par la somme des valeurs propres retenues divisées par la somme des toutes les valeurs propres. "
      ],
      "metadata": {
        "id": "4yV_wc4iISPj"
      }
    },
    {
      "cell_type": "code",
      "source": [
        "for i in range(valp.shape[0]):\n",
        "  r=sum(valp[:i+1])/sum(valp)\n",
        "  print(\"Part d'inertie expliquée par \", i+1, \"valeurs propres : \", r)"
      ],
      "metadata": {
        "colab": {
          "base_uri": "https://localhost:8080/"
        },
        "id": "sPJmpnhRIUai",
        "outputId": "d166162b-6c8e-4e4a-f371-a5dacc22b93a"
      },
      "execution_count": 20,
      "outputs": [
        {
          "output_type": "stream",
          "name": "stdout",
          "text": [
            "Part d'inertie expliquée par  1 valeurs propres :  0.7984816317385561\n",
            "Part d'inertie expliquée par  2 valeurs propres :  0.9881831649664496\n",
            "Part d'inertie expliquée par  3 valeurs propres :  0.9940176986457051\n",
            "Part d'inertie expliquée par  4 valeurs propres :  0.9973239262674779\n",
            "Part d'inertie expliquée par  5 valeurs propres :  0.9984943671114653\n",
            "Part d'inertie expliquée par  6 valeurs propres :  0.9991594951812172\n",
            "Part d'inertie expliquée par  7 valeurs propres :  0.9996635998029918\n",
            "Part d'inertie expliquée par  8 valeurs propres :  0.9998091742166417\n",
            "Part d'inertie expliquée par  9 valeurs propres :  0.9999335223932587\n",
            "Part d'inertie expliquée par  10 valeurs propres :  0.9999745335132457\n",
            "Part d'inertie expliquée par  11 valeurs propres :  0.9999983531581308\n",
            "Part d'inertie expliquée par  12 valeurs propres :  1.0\n"
          ]
        }
      ]
    },
    {
      "cell_type": "code",
      "source": [
        "# Pourcentage d'information expliquée par chaque axe.\n",
        "information = [v/sum(valp) for v in valp]\n",
        "txt = [str(i) for i in range(len(valp))]\n",
        "plt.bar(txt, information)\n",
        "plt.show()"
      ],
      "metadata": {
        "colab": {
          "base_uri": "https://localhost:8080/",
          "height": 265
        },
        "id": "sSsO1I_qk_Hh",
        "outputId": "c0b19dea-6edb-48ce-9023-7002fd49ba08"
      },
      "execution_count": 21,
      "outputs": [
        {
          "output_type": "display_data",
          "data": {
            "text/plain": [
              "<Figure size 432x288 with 1 Axes>"
            ],
            "image/png": "[encoded data removed]"
          },
          "metadata": {
            "needs_background": "light"
          }
        }
      ]
    },
    {
      "cell_type": "markdown",
      "source": [
        "### Règle de Kaiser\n",
        "On ne conserve que les valeurs propres supérieures à leur moyenne."
      ],
      "metadata": {
        "id": "JzABnTDeKh7y"
      }
    },
    {
      "cell_type": "code",
      "source": [
        "moyenne_vp = np.mean(valp)\n",
        "for i in range(valp.shape[0]):\n",
        "  if valp[i]>=moyenne_vp:\n",
        "    print(valp[i])\n"
      ],
      "metadata": {
        "colab": {
          "base_uri": "https://localhost:8080/"
        },
        "id": "5qyTQfJZKsnV",
        "outputId": "47b6fe45-1b2a-477a-b1b5-3feea9b886e8"
      },
      "execution_count": 22,
      "outputs": [
        {
          "output_type": "stream",
          "name": "stdout",
          "text": [
            "11.178742844339775\n",
            "2.655821465190506\n"
          ]
        }
      ]
    },
    {
      "cell_type": "markdown",
      "source": [
        "### Les éboulis\n",
        "On calcule la différence entre chaque valeur propre et sa suivante. Le principe consiste à rechercher, s’il existe, un “coude” (changement de signe dans la suite des différences d’ordre 2) dans le graphe et de ne conserver que les valeurs propres jusqu’à ce coude (Dans notre exemple, il n'y a pas de coude)."
      ],
      "metadata": {
        "id": "eDWZ4u7uNowf"
      }
    },
    {
      "cell_type": "code",
      "source": [
        "for i in range(1, valp.shape[0]-1):\n",
        "  r = valp[i-1]-valp[i]\n",
        "  print(r)"
      ],
      "metadata": {
        "colab": {
          "base_uri": "https://localhost:8080/"
        },
        "id": "dOY3r_JtN3EB",
        "outputId": "7cec46b3-205f-4a29-ead2-5eae6982e539"
      },
      "execution_count": 23,
      "outputs": [
        {
          "output_type": "stream",
          "name": "stdout",
          "text": [
            "8.522921379149269\n",
            "2.5741379936809294\n",
            "0.03539628480475572\n",
            "0.02990101488899764\n",
            "0.007074378839296911\n",
            "0.002254328271680822\n",
            "0.005019422913745591\n",
            "0.0002971673184620036\n",
            "0.0011667187928194357\n",
            "0.0002406806514267693\n"
          ]
        }
      ]
    }
  ]
}